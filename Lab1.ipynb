{
  "nbformat": 4,
  "nbformat_minor": 0,
  "metadata": {
    "colab": {
      "name": "Lab1.ipynb",
      "provenance": [],
      "collapsed_sections": []
    },
    "kernelspec": {
      "name": "python3",
      "display_name": "Python 3"
    }
  },
  "cells": [
    {
      "cell_type": "code",
      "metadata": {
        "id": "DdhKDHu8MzPI",
        "outputId": "b5acfe3d-3207-41ac-b367-ad49bd21e71b",
        "colab": {
          "base_uri": "https://localhost:8080/",
          "height": 34
        }
      },
      "source": [
        "#1\n",
        "l = [\"a\",\"b\",\"c\",\"d\",\"e\",\"a\",\"a\",\"b\",\"c\"]\n",
        "print({x:[i for i in range(len(l)) if l[i] == x] for x in set(l)})"
      ],
      "execution_count": 1,
      "outputs": [
        {
          "output_type": "stream",
          "text": [
            "{'d': [3], 'a': [0, 5, 6], 'c': [2, 8], 'e': [4], 'b': [1, 7]}\n"
          ],
          "name": "stdout"
        }
      ]
    },
    {
      "cell_type": "code",
      "metadata": {
        "id": "A_3ZmpEcNmgD"
      },
      "source": [
        "#4\n",
        "import json\n",
        "import csv\n",
        "with open(\"sales.json\") as file: data = json.load(file)\n",
        "f = []\n",
        "\n",
        "for item in data:\n",
        "    for country in item[\"sales_by_country\"]:\n",
        "        for year in item[\"sales_by_country\"][country]:\n",
        "            f.append([ item['item'], country, year, item[\"sales_by_country\"][country][year] ])\n",
        "\n",
        "with open(\"sales.csv\", \"w\") as file:\n",
        "    writer = csv.writer(file)\n",
        "    for row in f:\n",
        "        writer.writerow(row)\n"
      ],
      "execution_count": 4,
      "outputs": []
    },
    {
      "cell_type": "code",
      "metadata": {
        "id": "i4aIaQuARRrI",
        "outputId": "03d2ce09-cb6a-4217-d633-bb5af64c5490",
        "colab": {
          "base_uri": "https://localhost:8080/",
          "height": 34
        }
      },
      "source": [
        "#6.1\n",
        "from scipy.sparse import csr_matrix\n",
        "from scipy.sparse.csgraph import floyd_warshall\n",
        "data = {}\n",
        "\n",
        "with open(\"arcs_refined.txt\") as f:\n",
        "\tfor line in f:\n",
        "\t\tfor i in range(2):\n",
        "\t\t\tif data.get(line.split()[i]) == None:\n",
        "\t\t\t\tdata[line.split()[i]] = [line.split()[int(not(i))]]\n",
        "\t\t\telse:\n",
        "\t\t\t\tdata[line.split()[i]].append(line.split()[int(not(i))])\n",
        "    \n",
        "print('Amount of users:', len(data))"
      ],
      "execution_count": 13,
      "outputs": [
        {
          "output_type": "stream",
          "text": [
            "Amount of users: 3766\n"
          ],
          "name": "stdout"
        }
      ]
    },
    {
      "cell_type": "code",
      "metadata": {
        "id": "D2u3a4BATx0I",
        "outputId": "1422c270-46e3-4176-bb77-edc4d6da87b3",
        "colab": {
          "base_uri": "https://localhost:8080/",
          "height": 272
        }
      },
      "source": [
        "#6.2\n",
        "data2 = {i: len(data[i]) for i in data}\n",
        "sort = sorted(data2.items() , reverse=True, key=lambda x: x[1])[0:15]\n",
        "for id in sort:\n",
        "  print('id:', id[0], '->>','amount of friends:', id[1])"
      ],
      "execution_count": 14,
      "outputs": [
        {
          "output_type": "stream",
          "text": [
            "id: 154572605 ->> amount of friends: 351\n",
            "id: 136435809 ->> amount of friends: 211\n",
            "id: 34847138 ->> amount of friends: 210\n",
            "id: 1997236 ->> amount of friends: 178\n",
            "id: 472893795 ->> amount of friends: 178\n",
            "id: 270418723 ->> amount of friends: 167\n",
            "id: 246825563 ->> amount of friends: 155\n",
            "id: 120109289 ->> amount of friends: 148\n",
            "id: 83372852 ->> amount of friends: 146\n",
            "id: 94780691 ->> amount of friends: 140\n",
            "id: 63962118 ->> amount of friends: 136\n",
            "id: 150491520 ->> amount of friends: 135\n",
            "id: 94509311 ->> amount of friends: 135\n",
            "id: 122784747 ->> amount of friends: 132\n",
            "id: 41459412 ->> amount of friends: 130\n"
          ],
          "name": "stdout"
        }
      ]
    },
    {
      "cell_type": "code",
      "metadata": {
        "id": "GAiMkOKlYNsJ",
        "outputId": "cc039812-b3f6-48fa-e8f5-42bb05b6ff44",
        "colab": {
          "base_uri": "https://localhost:8080/",
          "height": 136
        }
      },
      "source": [
        "#6.3\n",
        "\n",
        "#создание массива индентификаторов\n",
        "idArr = []\n",
        "for i in data:\n",
        "  idArr.append(i)\n",
        "\n",
        "#создание матрицы связей\n",
        "graph = [[0 for i in range(len(idArr))] for j in range(len(idArr))]\n",
        "\n",
        "for id in data:\n",
        "    for friend in data[id]:\n",
        "      if (graph[idArr.index(id)][idArr.index(friend)] == 0):\n",
        "        graph[idArr.index(friend)][idArr.index(id)] = 1\n",
        "graph = csr_matrix(graph)\n",
        "\n",
        "#создание матрицы расстояний\n",
        "dist_matrix = floyd_warshall(csgraph=graph, directed=False)\n",
        "print(dist_matrix)"
      ],
      "execution_count": 15,
      "outputs": [
        {
          "output_type": "stream",
          "text": [
            "[[ 0.  1. inf ... inf inf inf]\n",
            " [ 1.  0. inf ... inf inf inf]\n",
            " [inf inf  0. ...  6.  5.  5.]\n",
            " ...\n",
            " [inf inf  6. ...  0.  6.  6.]\n",
            " [inf inf  5. ...  6.  0.  7.]\n",
            " [inf inf  5. ...  6.  7.  0.]]\n"
          ],
          "name": "stdout"
        }
      ]
    },
    {
      "cell_type": "code",
      "metadata": {
        "id": "wSpcKhYFYzdA",
        "outputId": "b929d888-98db-4bbf-9d67-feb2c9c03786",
        "colab": {
          "base_uri": "https://localhost:8080/",
          "height": 34
        }
      },
      "source": [
        "l = [0]*7 #Массив для длин\n",
        "# l[0] = L1, ... , l[6]  = количество пар\n",
        "# путь между которыми больше 6 или не существует\n",
        "\n",
        "#Проход по верхнему треугольнику матрицы без главной диагонали\n",
        "#и занесение данных в массив длин \n",
        "for i in range(len(dist_matrix)-1): \n",
        "  for j in range(i+1, len(dist_matrix)):\n",
        "    if (0 < dist_matrix[i][j]) and (dist_matrix[i][j] < 7):\n",
        "      l[int(dist_matrix[i][j]-1)] += 1\n",
        "    else: l[6] += 1\n",
        "print(l)"
      ],
      "execution_count": 16,
      "outputs": [
        {
          "output_type": "stream",
          "text": [
            "[41405, 717445, 3113229, 2352587, 572157, 89101, 203571]\n"
          ],
          "name": "stdout"
        }
      ]
    },
    {
      "cell_type": "code",
      "metadata": {
        "id": "FtSVFh4_bPG0",
        "outputId": "d20c9426-e371-4f16-9317-1d3794e86131",
        "colab": {
          "base_uri": "https://localhost:8080/",
          "height": 153
        }
      },
      "source": [
        "amount_of_pairs = int((len(data)*(len(data)-1)) / 2)\n",
        "\n",
        "#Пропорции пар \n",
        "for i in range(6):\n",
        "\tprint(\"L =\", i+1, \":\", l[i], \"/\", amount_of_pairs)\n",
        "print(\"Way does not exist or its length is bigger than 6:\", l[6], \"/\", amount_of_pairs)\n",
        "\n",
        "#Сравнение количества пар полученных в ходе вычислений и по формуле\n",
        "#для того, чтобы убедиться что полученные пропорции суммируются в 1\n",
        "sum = 0\n",
        "for i in l:\n",
        "  sum += i\n",
        "if sum == amount_of_pairs: print(\"Q.E.D.\")\n",
        "else: print(\"Something went wrong\")"
      ],
      "execution_count": 17,
      "outputs": [
        {
          "output_type": "stream",
          "text": [
            "L = 1 : 41405 / 7089495\n",
            "L = 2 : 717445 / 7089495\n",
            "L = 3 : 3113229 / 7089495\n",
            "L = 4 : 2352587 / 7089495\n",
            "L = 5 : 572157 / 7089495\n",
            "L = 6 : 89101 / 7089495\n",
            "Way does not exist or its length is bigger than 6: 203571 / 7089495\n",
            "Q.E.D.\n"
          ],
          "name": "stdout"
        }
      ]
    }
  ]
}