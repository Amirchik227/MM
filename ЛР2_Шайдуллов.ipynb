{
  "nbformat": 4,
  "nbformat_minor": 0,
  "metadata": {
    "colab": {
      "name": "ЛР2_Шайдуллов.ipynb",
      "provenance": [],
      "collapsed_sections": []
    },
    "kernelspec": {
      "name": "python3",
      "display_name": "Python 3"
    },
    "language_info": {
      "name": "python"
    }
  },
  "cells": [
    {
      "cell_type": "code",
      "execution_count": null,
      "metadata": {
        "id": "H4iealujtV6p"
      },
      "outputs": [],
      "source": [
        "import pandas as pd\n",
        "import numpy as np\n",
        "import seaborn as sns\n",
        "import json"
      ]
    },
    {
      "cell_type": "markdown",
      "source": [
        "Считывние сетки, элементов и материала из файла data.txt"
      ],
      "metadata": {
        "id": "SKFi7K_2ECgr"
      }
    },
    {
      "cell_type": "code",
      "source": [
        "\n",
        "with open('data.txt') as json_file:\n",
        "    data = json.load(json_file)\n",
        "    mesh = data[0]\n",
        "    elements = data[1]\n",
        "    material = data[2]"
      ],
      "metadata": {
        "id": "Pzu2-GYb5C3P"
      },
      "execution_count": null,
      "outputs": []
    },
    {
      "cell_type": "markdown",
      "source": [
        "Инициализация"
      ],
      "metadata": {
        "id": "G5C8lOY0EMi2"
      }
    },
    {
      "cell_type": "code",
      "source": [
        "n = 25 # Число узлов\n",
        "m = 32 # Число элементов\n",
        "temp = [10, 0, 0, 0, 20, 10, 0, 0, 0, 20, 10, 0, 0, 0, 20, 10, \n",
        "        0, 0, 0, 20, 10, 0, 0, 0, 20] # Температура в узлах\n",
        "f = [0, 0, 0, 0, 0, 0, 0, 0, 0, 0, 0, 0, 0, 0, 0, 0,\n",
        "     0, 0, 0, 0, 0, 0, 0, 0, 0] # Вектор правых частей\n",
        "k = [[0] * 3 for i in range(3)] # Элементная матрица\n",
        "a = [[0] * n for i in range(n)] # Матрицы жесткости"
      ],
      "metadata": {
        "id": "iYHdwVcBrzix"
      },
      "execution_count": null,
      "outputs": []
    },
    {
      "cell_type": "markdown",
      "source": [
        "Цикл по элементам"
      ],
      "metadata": {
        "id": "Nj1HTv6UEXjx"
      }
    },
    {
      "cell_type": "code",
      "source": [
        "for i in range(m):\n",
        "    s=[0,0,0]\n",
        "    x=[0,0,0]\n",
        "    y=[0,0,0]\n",
        "    b=[0,0,0]\n",
        "    c=[0,0,0]   \n",
        " \n",
        "    for j in range(3):\n",
        "        s[j]=elements[i][j]\n",
        "    \n",
        "    for j in range(3):             \n",
        "        x[j]=mesh[s[j]-1][0]        \n",
        "        y[j]=mesh[s[j]-1][1]        \n",
        "\n",
        "    b[0]=y[1]-y[2]                  \n",
        "    b[1]=y[2]-y[0]                 \n",
        "    b[2]=y[0]-y[1]                 \n",
        "    c[0]=x[2]-x[1]\n",
        "    c[1]=x[0]-x[2]\n",
        "    c[2]=x[1]-x[0]\n",
        "\n",
        "    A=(x[1] * y[2] - x[2] * y[1] + x[0] * y[1] -\\\n",
        "       x[0] * y[2] + x[2] * y[0] - x[1] * y[0]) / 2\n",
        "    \n",
        "    for j in range(3):\n",
        "        for l in range(3):\n",
        "            k[j][l]=material[i][0]*b[j] * b[l] / (4 * A) +\\\n",
        "             material[i][1] * c[j] * c[l] / (4 * A)\n",
        "    \n",
        "    for j in range(3):\n",
        "        for r in range(3):\n",
        "            a[s[j] - 1][s[r] - 1] = a[s[j] - 1][s[r] - 1] + k[j][r]\n",
        "\n",
        "    for j in range(3):\n",
        "        f[s[j] - 1] = f[s[j] - 1] + b[j]"
      ],
      "metadata": {
        "id": "dcLz7Rkcrzyq"
      },
      "execution_count": null,
      "outputs": []
    },
    {
      "cell_type": "markdown",
      "source": [
        "Перенос граничных условий Дирихле в матрицу и вектор правых частей"
      ],
      "metadata": {
        "id": "vX6y9P4nEmR7"
      }
    },
    {
      "cell_type": "code",
      "source": [
        "for s in range(n):\n",
        "    if (temp[s]):\n",
        "        a[s][s]=1        \n",
        "        f[s]=temp[s]     \n",
        "        for k in range(n): \n",
        "            if (k!=s):                                     \n",
        "                a[s][k]=0                                  \n",
        "                f[k] = f[k] - a[k][s] * temp[s]    \n",
        "                a[k][s] = 0                               "
      ],
      "metadata": {
        "id": "HmmrR3Mkr0DO"
      },
      "execution_count": null,
      "outputs": []
    },
    {
      "cell_type": "markdown",
      "source": [
        "Решение системы Ku = f"
      ],
      "metadata": {
        "id": "wR8A2X9VFFOw"
      }
    },
    {
      "cell_type": "code",
      "source": [
        "u = np.linalg.solve(a, f) "
      ],
      "metadata": {
        "id": "bOBOMxKAFEdP"
      },
      "execution_count": null,
      "outputs": []
    },
    {
      "cell_type": "markdown",
      "source": [
        "Вывод температуры в узлах"
      ],
      "metadata": {
        "id": "0KgPJMdzFMJW"
      }
    },
    {
      "cell_type": "code",
      "source": [
        "u = pd.DataFrame(np.matrix(np.reshape(u, (5,5))),\n",
        "                   columns=['0', '0.25', '0.5', '0.75', '1'],\n",
        "                  index=['1', '0.75', '0.5', '0.25', '0'])\n",
        "u"
      ],
      "metadata": {
        "colab": {
          "base_uri": "https://localhost:8080/",
          "height": 206
        },
        "id": "wibvqnXVFNeX",
        "outputId": "04147079-6471-49b8-810d-74535563cc56"
      },
      "execution_count": null,
      "outputs": [
        {
          "output_type": "execute_result",
          "data": {
            "text/html": [
              "\n",
              "  <div id=\"df-c50fe529-40c4-4c97-bde9-caaa82f1e4ff\">\n",
              "    <div class=\"colab-df-container\">\n",
              "      <div>\n",
              "<style scoped>\n",
              "    .dataframe tbody tr th:only-of-type {\n",
              "        vertical-align: middle;\n",
              "    }\n",
              "\n",
              "    .dataframe tbody tr th {\n",
              "        vertical-align: top;\n",
              "    }\n",
              "\n",
              "    .dataframe thead th {\n",
              "        text-align: right;\n",
              "    }\n",
              "</style>\n",
              "<table border=\"1\" class=\"dataframe\">\n",
              "  <thead>\n",
              "    <tr style=\"text-align: right;\">\n",
              "      <th></th>\n",
              "      <th>0</th>\n",
              "      <th>0.25</th>\n",
              "      <th>0.5</th>\n",
              "      <th>0.75</th>\n",
              "      <th>1</th>\n",
              "    </tr>\n",
              "  </thead>\n",
              "  <tbody>\n",
              "    <tr>\n",
              "      <th>1</th>\n",
              "      <td>10.0</td>\n",
              "      <td>12.5</td>\n",
              "      <td>15.0</td>\n",
              "      <td>17.5</td>\n",
              "      <td>20.0</td>\n",
              "    </tr>\n",
              "    <tr>\n",
              "      <th>0.75</th>\n",
              "      <td>10.0</td>\n",
              "      <td>12.5</td>\n",
              "      <td>15.0</td>\n",
              "      <td>17.5</td>\n",
              "      <td>20.0</td>\n",
              "    </tr>\n",
              "    <tr>\n",
              "      <th>0.5</th>\n",
              "      <td>10.0</td>\n",
              "      <td>12.5</td>\n",
              "      <td>15.0</td>\n",
              "      <td>17.5</td>\n",
              "      <td>20.0</td>\n",
              "    </tr>\n",
              "    <tr>\n",
              "      <th>0.25</th>\n",
              "      <td>10.0</td>\n",
              "      <td>12.5</td>\n",
              "      <td>15.0</td>\n",
              "      <td>17.5</td>\n",
              "      <td>20.0</td>\n",
              "    </tr>\n",
              "    <tr>\n",
              "      <th>0</th>\n",
              "      <td>10.0</td>\n",
              "      <td>12.5</td>\n",
              "      <td>15.0</td>\n",
              "      <td>17.5</td>\n",
              "      <td>20.0</td>\n",
              "    </tr>\n",
              "  </tbody>\n",
              "</table>\n",
              "</div>\n",
              "      <button class=\"colab-df-convert\" onclick=\"convertToInteractive('df-c50fe529-40c4-4c97-bde9-caaa82f1e4ff')\"\n",
              "              title=\"Convert this dataframe to an interactive table.\"\n",
              "              style=\"display:none;\">\n",
              "        \n",
              "  <svg xmlns=\"http://www.w3.org/2000/svg\" height=\"24px\"viewBox=\"0 0 24 24\"\n",
              "       width=\"24px\">\n",
              "    <path d=\"M0 0h24v24H0V0z\" fill=\"none\"/>\n",
              "    <path d=\"M18.56 5.44l.94 2.06.94-2.06 2.06-.94-2.06-.94-.94-2.06-.94 2.06-2.06.94zm-11 1L8.5 8.5l.94-2.06 2.06-.94-2.06-.94L8.5 2.5l-.94 2.06-2.06.94zm10 10l.94 2.06.94-2.06 2.06-.94-2.06-.94-.94-2.06-.94 2.06-2.06.94z\"/><path d=\"M17.41 7.96l-1.37-1.37c-.4-.4-.92-.59-1.43-.59-.52 0-1.04.2-1.43.59L10.3 9.45l-7.72 7.72c-.78.78-.78 2.05 0 2.83L4 21.41c.39.39.9.59 1.41.59.51 0 1.02-.2 1.41-.59l7.78-7.78 2.81-2.81c.8-.78.8-2.07 0-2.86zM5.41 20L4 18.59l7.72-7.72 1.47 1.35L5.41 20z\"/>\n",
              "  </svg>\n",
              "      </button>\n",
              "      \n",
              "  <style>\n",
              "    .colab-df-container {\n",
              "      display:flex;\n",
              "      flex-wrap:wrap;\n",
              "      gap: 12px;\n",
              "    }\n",
              "\n",
              "    .colab-df-convert {\n",
              "      background-color: #E8F0FE;\n",
              "      border: none;\n",
              "      border-radius: 50%;\n",
              "      cursor: pointer;\n",
              "      display: none;\n",
              "      fill: #1967D2;\n",
              "      height: 32px;\n",
              "      padding: 0 0 0 0;\n",
              "      width: 32px;\n",
              "    }\n",
              "\n",
              "    .colab-df-convert:hover {\n",
              "      background-color: #E2EBFA;\n",
              "      box-shadow: 0px 1px 2px rgba(60, 64, 67, 0.3), 0px 1px 3px 1px rgba(60, 64, 67, 0.15);\n",
              "      fill: #174EA6;\n",
              "    }\n",
              "\n",
              "    [theme=dark] .colab-df-convert {\n",
              "      background-color: #3B4455;\n",
              "      fill: #D2E3FC;\n",
              "    }\n",
              "\n",
              "    [theme=dark] .colab-df-convert:hover {\n",
              "      background-color: #434B5C;\n",
              "      box-shadow: 0px 1px 3px 1px rgba(0, 0, 0, 0.15);\n",
              "      filter: drop-shadow(0px 1px 2px rgba(0, 0, 0, 0.3));\n",
              "      fill: #FFFFFF;\n",
              "    }\n",
              "  </style>\n",
              "\n",
              "      <script>\n",
              "        const buttonEl =\n",
              "          document.querySelector('#df-c50fe529-40c4-4c97-bde9-caaa82f1e4ff button.colab-df-convert');\n",
              "        buttonEl.style.display =\n",
              "          google.colab.kernel.accessAllowed ? 'block' : 'none';\n",
              "\n",
              "        async function convertToInteractive(key) {\n",
              "          const element = document.querySelector('#df-c50fe529-40c4-4c97-bde9-caaa82f1e4ff');\n",
              "          const dataTable =\n",
              "            await google.colab.kernel.invokeFunction('convertToInteractive',\n",
              "                                                     [key], {});\n",
              "          if (!dataTable) return;\n",
              "\n",
              "          const docLinkHtml = 'Like what you see? Visit the ' +\n",
              "            '<a target=\"_blank\" href=https://colab.research.google.com/notebooks/data_table.ipynb>data table notebook</a>'\n",
              "            + ' to learn more about interactive tables.';\n",
              "          element.innerHTML = '';\n",
              "          dataTable['output_type'] = 'display_data';\n",
              "          await google.colab.output.renderOutput(dataTable, element);\n",
              "          const docLink = document.createElement('div');\n",
              "          docLink.innerHTML = docLinkHtml;\n",
              "          element.appendChild(docLink);\n",
              "        }\n",
              "      </script>\n",
              "    </div>\n",
              "  </div>\n",
              "  "
            ],
            "text/plain": [
              "         0  0.25   0.5  0.75     1\n",
              "1     10.0  12.5  15.0  17.5  20.0\n",
              "0.75  10.0  12.5  15.0  17.5  20.0\n",
              "0.5   10.0  12.5  15.0  17.5  20.0\n",
              "0.25  10.0  12.5  15.0  17.5  20.0\n",
              "0     10.0  12.5  15.0  17.5  20.0"
            ]
          },
          "metadata": {},
          "execution_count": 93
        }
      ]
    },
    {
      "cell_type": "markdown",
      "source": [
        "Цветовая модель перехода тепла по пластине"
      ],
      "metadata": {
        "id": "JykeFmbPAAF6"
      }
    },
    {
      "cell_type": "code",
      "source": [
        "sns.heatmap(u, cmap = 'coolwarm', linewidths=0.1, linecolor='black')"
      ],
      "metadata": {
        "colab": {
          "base_uri": "https://localhost:8080/",
          "height": 287
        },
        "id": "bxC04WdqzV9g",
        "outputId": "822eca17-50b4-4be6-9512-1d5b1bcaa44c"
      },
      "execution_count": null,
      "outputs": [
        {
          "output_type": "execute_result",
          "data": {
            "text/plain": [
              "<matplotlib.axes._subplots.AxesSubplot at 0x7f197ed041d0>"
            ]
          },
          "metadata": {},
          "execution_count": 94
        },
        {
          "output_type": "display_data",
          "data": {
            "image/png": "[encoded data removed]",
            "text/plain": [
              "<Figure size 432x288 with 2 Axes>"
            ]
          },
          "metadata": {
            "needs_background": "light"
          }
        }
      ]
    }
  ]
}